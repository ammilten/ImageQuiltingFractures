{
 "cells": [
  {
   "cell_type": "markdown",
   "metadata": {},
   "source": [
    "# Importing Libraries"
   ]
  },
  {
   "cell_type": "code",
   "execution_count": 1,
   "metadata": {},
   "outputs": [],
   "source": [
    "using MAT\n",
    "using PyPlot\n",
    "using ImageQuilting\n",
    "using GeoStatsImages\n",
    "using MultivariateStats\n",
    "using JLD\n",
    "using Plots\n",
    "\n",
    "#Custom functions stored in a library\n",
    "include(\"./ImageQuiltingHelpers.jl/src/ImageQuiltingHelpers.jl\")\n",
    "using ImageQuiltingHelpers"
   ]
  },
  {
   "cell_type": "markdown",
   "metadata": {},
   "source": [
    "# 1. Initializations and Unconditional Simulations"
   ]
  },
  {
   "cell_type": "markdown",
   "metadata": {},
   "source": [
    "I start this by importing the data. You can see the format from the output of the next two cells."
   ]
  },
  {
   "cell_type": "code",
   "execution_count": 2,
   "metadata": {},
   "outputs": [
    {
     "data": {
      "text/plain": [
       "Dict{String,Any} with 8 entries:\n",
       "  \"R2_dmig\"  => Dict{String,Any}(Pair{String,Any}(\"tmax\", 3.99975e-8),Pair{Stri…\n",
       "  \"TI4_dmig\" => Dict{String,Any}(Pair{String,Any}(\"tmax\", 3.99975e-8),Pair{Stri…\n",
       "  \"TI2_dmig\" => Dict{String,Any}(Pair{String,Any}(\"tmax\", 3.99975e-8),Pair{Stri…\n",
       "  \"R1_dmig\"  => Dict{String,Any}(Pair{String,Any}(\"tmax\", 3.99975e-8),Pair{Stri…\n",
       "  \"R4_dmig\"  => Dict{String,Any}(Pair{String,Any}(\"tmax\", 3.99975e-8),Pair{Stri…\n",
       "  \"R3_dmig\"  => Dict{String,Any}(Pair{String,Any}(\"tmax\", 3.99975e-8),Pair{Stri…\n",
       "  \"TI3_dmig\" => Dict{String,Any}(Pair{String,Any}(\"tmax\", 3.99975e-8),Pair{Stri…\n",
       "  \"TI1_dmig\" => Dict{String,Any}(Pair{String,Any}(\"tmax\", 3.99975e-8),Pair{Stri…"
      ]
     },
     "execution_count": 2,
     "metadata": {},
     "output_type": "execute_result"
    }
   ],
   "source": [
    "#Import Matlab Data\n",
    "fracdata=matread(\"complete processed data.mat\")"
   ]
  },
  {
   "cell_type": "code",
   "execution_count": 3,
   "metadata": {},
   "outputs": [
    {
     "data": {
      "text/plain": [
       "Dict{String,Any} with 22 entries:\n",
       "  \"tmax\"          => 3.99975e-8\n",
       "  \"sTI\"           => [0.00156502 0.00161257 … 0.00164644 0.00162116; 0.00164226…\n",
       "  \"x\"             => [-0.042 -0.04 … 2.04 2.042]\n",
       "  \"dt\"            => 7.5e-12\n",
       "  \"binary\"        => [0.0 0.0 … 0.0 0.0; 0.0 0.0 … 0.0 0.0; … ; 0.0 0.0 … 0.0 0…\n",
       "  \"env\"           => [0.00156502 0.00161257 … 0.00164644 0.00162116; 0.00158022…\n",
       "  \"dmig\"          => [-0.000398511 -0.000783725 … -0.000109158 -0.000812116; -0…\n",
       "  \"srcloc_x\"      => [3.46945e-17 0.048 … 1.448 1.5]\n",
       "  \"zmig\"          => [0.0 0.00042 … 2.11344 2.11386]\n",
       "  \"eps\"           => [1.0 1.0 … 7.0 7.0; 1.0 1.0 … 7.0 7.0; … ; 1.0 1.0 … 7.0 7…\n",
       "  \"frequency_MHz\" => 500.0\n",
       "  \"srcpulse\"      => [5.43e-7 8.14486e-6 … 0.0 0.0]\n",
       "  \"mu\"            => [1.0 1.0 … 1.025 1.025; 1.0 1.0 … 1.025 1.025; … ; 1.0 1.0…\n",
       "  \"recloc_x\"      => [0.5 0.548 … 1.948 2.0]\n",
       "  \"z\"             => [-0.102 -0.1 … 2.04 2.042]\n",
       "  \"pTI\"           => [0.0 0.0 … 0.0 0.0; 0.0 0.0 … 0.0 0.0; … ; 0.0 0.0 … 0.0 0…\n",
       "  \"npml\"          => 10.0\n",
       "  \"xTI\"           => [0.25 0.298 … 1.698 1.75]\n",
       "  \"Description\"   => \"R2 Response. Wet granite host and saturated fractures.\"\n",
       "  \"CO_gather\"     => [0.0 0.0 … 0.0 0.0; 0.0 0.0 … 0.0 0.0; … ; -0.00107857 0.0…\n",
       "  \"zTI\"           => [0.0 0.002 … 1.996 1.998]\n",
       "  \"sig\"           => [3.0e-15 3.0e-15 … 1.4e-5 1.4e-5; 3.0e-15 3.0e-15 … 1.4e-5…"
      ]
     },
     "execution_count": 3,
     "metadata": {},
     "output_type": "execute_result"
    }
   ],
   "source": [
    "#Show an example of the fields for each struct, just for reference\n",
    "fracdata[\"R2_dmig\"]"
   ]
  },
  {
   "cell_type": "markdown",
   "metadata": {},
   "source": [
    "Next we prepare the data that I use in the simulations. I have created the function *prepareImages* as a part of the ImageQuiltingHelpers library to do this concisely for me. This function reads a set from the custom-formatted data and does 4 things. \n",
    "\n",
    "* Clips the x-axis of the primary TI to match the range of the secondary information\n",
    "\n",
    "* Interpolates the secondary information to match the dimensions of the clipped TI\n",
    "\n",
    "* Performs the proximity transform on the clipped primary information\n",
    "\n",
    "* Convert the above 3 images to training images (add a ghost dimension) and return the 3 images\n",
    "\n",
    "These three steps each return an image, hence the three outputs that you can see below. Each image is the same size so they can be used directly in simulations. We also define the number of realizations for the conditional and unconditional simulations in the following cell."
   ]
  },
  {
   "cell_type": "code",
   "execution_count": 4,
   "metadata": {
    "collapsed": true
   },
   "outputs": [],
   "source": [
    "#Prepare all my data to have matching sizes before simulating\n",
    "TI_prim, TI_aux, TI_prox = prepareImages(fracdata[\"TI2_dmig\"]);\n",
    "R_prim, R_aux, R_prox = prepareImages(fracdata[\"R2_dmig\"]);\n",
    "\n",
    "#Number of realizations\n",
    "n=100;"
   ]
  },
  {
   "cell_type": "markdown",
   "metadata": {},
   "source": [
    "Now we can start plotting and simulating. We perform the unconditional simulations using the binary image first. The next cell just plots the trianing image, the second performs the simulation, the third uses a custom function to save the results, and the fourth plots a summary of the realizations."
   ]
  },
  {
   "cell_type": "code",
   "execution_count": null,
   "metadata": {
    "collapsed": true
   },
   "outputs": [],
   "source": [
    "#Plot binary training image\n",
    "plotImage(TI_prim);\n",
    "title(\"Binary TI\");\n",
    "axis(\"off\");"
   ]
  },
  {
   "cell_type": "code",
   "execution_count": null,
   "metadata": {
    "collapsed": true
   },
   "outputs": [],
   "source": [
    "#  Perform unconditional simulation on binary image\n",
    "#binary_uncond = uncond_iqsim2d(TI_prim, [101 101 1], n);\n",
    "binary_uncond_mean, binary_uncond_stdev=realizationStats(binary_uncond);"
   ]
  },
  {
   "cell_type": "code",
   "execution_count": null,
   "metadata": {
    "collapsed": true
   },
   "outputs": [],
   "source": [
    "#Save unconditional simulation.\n",
    "#collectSimulation(binary_uncond,TI_prim,saveSim=true,savename=\"Simulations/binary_uncond_sim\");"
   ]
  },
  {
   "cell_type": "code",
   "execution_count": null,
   "metadata": {
    "collapsed": true
   },
   "outputs": [],
   "source": [
    "#Plot realization\n",
    "subplot(2,2,1)\n",
    "plotImage(TI_prim)\n",
    "axis(\"off\")\n",
    "title(\"Training Image\")\n",
    "subplot(2,2,2)\n",
    "plotImage(binary_uncond[1][:,:,1])\n",
    "axis(\"off\")\n",
    "title(\"Uncond. Realization\")\n",
    "subplot(2,2,3)\n",
    "plotImage(binary_uncond_mean)\n",
    "axis(\"off\")\n",
    "title(\"Mean Realization\")\n",
    "subplot(2,2,4)\n",
    "plotImage(binary_uncond_stdev)\n",
    "axis(\"off\")\n",
    "title(\"Standard Deviation\")\n",
    ";"
   ]
  },
  {
   "cell_type": "markdown",
   "metadata": {},
   "source": [
    "The next four cells do the same thing as the previous four, but with the proximity-transformed training image."
   ]
  },
  {
   "cell_type": "code",
   "execution_count": null,
   "metadata": {
    "collapsed": true
   },
   "outputs": [],
   "source": [
    "#Plot proximity transform training image\n",
    "plotImage(TI_prox);\n",
    "title(\"Proximity Transformed TI\");\n",
    "axis(\"off\");"
   ]
  },
  {
   "cell_type": "code",
   "execution_count": null,
   "metadata": {
    "collapsed": true
   },
   "outputs": [],
   "source": [
    "#  Perform test IQ Simulation on proximity-transformed image\n",
    "#prox_uncond = uncond_iqsim2d(TI_prox, [101 101 1], n);\n",
    "prox_uncond_mean, prox_uncond_stdev=realizationStats(prox_uncond);"
   ]
  },
  {
   "cell_type": "code",
   "execution_count": null,
   "metadata": {
    "collapsed": true
   },
   "outputs": [],
   "source": [
    "#  Save simulation\n",
    "#collectSimulation(prox_uncond,TI_prox,saveSim=true,savename=\"Simulations/prox_uncond_sim\");"
   ]
  },
  {
   "cell_type": "code",
   "execution_count": null,
   "metadata": {
    "collapsed": true
   },
   "outputs": [],
   "source": [
    "#  Plot realization\n",
    "subplot(2,2,1)\n",
    "plotImage(TI_prox)\n",
    "axis(\"off\")\n",
    "title(\"Training Image\")\n",
    "subplot(2,2,2)\n",
    "plotImage(prox_uncond[1][:,:,1])\n",
    "axis(\"off\")\n",
    "title(\"Uncond. Realization\")\n",
    "subplot(2,2,3)\n",
    "plotImage(prox_uncond_mean)\n",
    "axis(\"off\")\n",
    "title(\"Mean Realization\")\n",
    "subplot(2,2,4)\n",
    "plotImage(prox_uncond_stdev)\n",
    "axis(\"off\")\n",
    "title(\"Standard Deviation\")\n",
    ";"
   ]
  },
  {
   "cell_type": "markdown",
   "metadata": {},
   "source": [
    "**Brief Discussion**\n",
    "\n",
    "This image quilting technique is really incredible. I can't believe how fast it is and how it produces much more visually appealing images than typical MPS simulations. One slightly concerning observation is that this algorithm, at least with this template size, sometimes produces much longer fractures than the training image contains. I have a feeling this is a template size phenomenon but nonetheless something worth noting. Also, the algorithm works basically the same for data with and without the proximity transform.  "
   ]
  },
  {
   "cell_type": "markdown",
   "metadata": {},
   "source": [
    "# 2. Template Size Testing"
   ]
  },
  {
   "cell_type": "markdown",
   "metadata": {},
   "source": [
    "In this next part we examine the effect of template size on the unconditional realizations. For the sake of computation we only compute a single unconditional realization for each of the four template sizes."
   ]
  },
  {
   "cell_type": "code",
   "execution_count": null,
   "metadata": {
    "collapsed": true
   },
   "outputs": [],
   "source": [
    "#Define template sizes\n",
    "templSizes=[51 51 1; 76 76 1; 101 101 1; 201 201 1];"
   ]
  },
  {
   "cell_type": "code",
   "execution_count": null,
   "metadata": {
    "collapsed": true
   },
   "outputs": [],
   "source": [
    "#Template size test without proximity transform\n",
    "#binary_templSizeTest=templSizeTest(TI_prim,templSizes,1);\n",
    "\n",
    "#With proximity transform\n",
    "#prox_templSizeTest=templSizeTest(TI_prox,templSizes,1);"
   ]
  },
  {
   "cell_type": "code",
   "execution_count": null,
   "metadata": {
    "collapsed": true
   },
   "outputs": [],
   "source": [
    "#Save binary template size test\n",
    "#collectSimulation(binary_templSizeTest,TI_prim,saveSim=true,savename=\"Simulations/binary_uncond_templSizeTest\")"
   ]
  },
  {
   "cell_type": "code",
   "execution_count": null,
   "metadata": {
    "collapsed": true
   },
   "outputs": [],
   "source": [
    "#Plot template size test results (realization 1) for binary\n",
    "titles=[\"51 x 51\", \"76 x 76\", \"101 x 101\", \"201 x 201\"]\n",
    "for i=1:4\n",
    "    subplot(2,2,i)\n",
    "    plotImage(binary_templSizeTest[i][1][:,:,1])\n",
    "    axis(\"off\")\n",
    "    title(titles[i])\n",
    "end"
   ]
  },
  {
   "cell_type": "code",
   "execution_count": null,
   "metadata": {
    "collapsed": true
   },
   "outputs": [],
   "source": [
    "#Save proximity template size test\n",
    "#collectSimulation(prox_templSizeTest,TI_prox,saveSim=true,savename=\"Simulations/prox_uncond_templSizeTest\")"
   ]
  },
  {
   "cell_type": "code",
   "execution_count": null,
   "metadata": {
    "collapsed": true
   },
   "outputs": [],
   "source": [
    "#Plot template size test results for proximity transform\n",
    "for i=1:4\n",
    "    subplot(2,2,i)\n",
    "    plotImage(prox_templSizeTest[i][1][:,:,1])\n",
    "    axis(\"off\")\n",
    "    title(titles[i])\n",
    "end"
   ]
  },
  {
   "cell_type": "markdown",
   "metadata": {},
   "source": [
    "**Brief Discussion**\n",
    "\n",
    "..."
   ]
  },
  {
   "cell_type": "markdown",
   "metadata": {},
   "source": [
    "# 3. Using Secondary Data"
   ]
  },
  {
   "cell_type": "markdown",
   "metadata": {},
   "source": [
    "Now we can begin the meat of the project. Here we will try to reproduce a fracture image based on some geophysical data. We use a Training Image primary/auxiliary pair and condition the realizations on another auxiliary data set. The goal is to reproduce the reference, or true, image. \n",
    "\n",
    "The geophysical data is from a Ground-Penetrating Radar (GPR) simulation of a fracture network. The simulation assumed that the fractures had an aperture of 8mm (or cm, I can't remember). The host rock is granitic and the fractures contain water. Up to this point the GPR data has been gained based on depth, migrated using a constant velocity model, and enveloped to smooth the image. This is a simple processing workflow as the processing is not the major focus of this work.\n",
    "\n",
    "Below we perform conditional simulations, save the results, and show a summary of the results. We simulate both the binary image and the proximity-transformed image."
   ]
  },
  {
   "cell_type": "code",
   "execution_count": null,
   "metadata": {
    "collapsed": true
   },
   "outputs": [],
   "source": [
    "#Show training, conditioning, and reference images.\n",
    "subplot(2,2,1)\n",
    "plotImage(TI_prox[:,:,1])\n",
    "axis(\"off\")\n",
    "title(\"Training Image\")\n",
    "subplot(2,2,2)\n",
    "plotImage(TI_aux[:,:,1])\n",
    "axis(\"off\")\n",
    "title(\"Auxiliary Data\")\n",
    "colorbar()\n",
    "subplot(2,2,3)\n",
    "plotImage(R_prox[:,:,1])\n",
    "axis(\"off\")\n",
    "title(\"Reference Image\")\n",
    "subplot(2,2,4)\n",
    "plotImage(R_aux[:,:,1])\n",
    "axis(\"off\")\n",
    "title(\"Conditioning Data\")\n",
    "colorbar()\n",
    ";"
   ]
  },
  {
   "cell_type": "code",
   "execution_count": null,
   "metadata": {},
   "outputs": [],
   "source": [
    "#Conditional image quilting simulation - no proximity transform\n",
    "binary_cond=iqsim(\n",
    "    TI_prim,\n",
    "    151,151,1,\n",
    "    size(TI_prim)..., \n",
    "    soft=[(im2TI(R_aux),im2TI(TI_aux))],\n",
    "    nreal=n,\n",
    "    overlapx=1/10,overlapy=1/10,\n",
    "    gpu=true)\n",
    "\n",
    "#Conditional image quilting simulation with proximity transform\n",
    "prox_cond=iqsim(\n",
    "    TI_prox,\n",
    "    151,151,1,\n",
    "    size(TI_prox)..., \n",
    "    soft=[(im2TI(R_aux),im2TI(TI_aux))],\n",
    "    nreal=n,\n",
    "    overlapx=1/10,overlapy=1/10,\n",
    "    gpu=true)\n",
    "\n",
    "\n",
    "#Compute mean & stdev of realizations\n",
    "binary_cond_mean, binary_cond_stdev=realizationStats(binary_cond)\n",
    "prox_cond_mean, prox_cond_stdev=realizationStats(prox_cond);"
   ]
  },
  {
   "cell_type": "code",
   "execution_count": null,
   "metadata": {},
   "outputs": [],
   "source": [
    "#Save binary conditional simulation\n",
    "collectSimulation(\n",
    "    binary_cond,\n",
    "    TI_prim,\n",
    "    sTI=TI_aux,\n",
    "    truth=R_prim,\n",
    "    soft=R_aux,\n",
    "    saveSim=true,\n",
    "    savename=\"Simulations/binary_cond_sim\"\n",
    ")"
   ]
  },
  {
   "cell_type": "code",
   "execution_count": null,
   "metadata": {},
   "outputs": [],
   "source": [
    "#Summarize binary conditional simulation\n",
    "subplot(2,2,1)\n",
    "plotImage(R_prim)\n",
    "axis(\"off\")\n",
    "title(\"Conditional Simulation - Reference\")\n",
    "subplot(2,2,2)\n",
    "plotImage(binary_cond[1][:,:,1])\n",
    "axis(\"off\")\n",
    "title(\"Realization 1\")\n",
    "subplot(2,2,3)\n",
    "plotImage(binary_cond_mean)\n",
    "axis(\"off\")\n",
    "title(\"Mean Realization\")\n",
    "subplot(2,2,4)\n",
    "plotImage(binary_cond_stdev)\n",
    "axis(\"off\")\n",
    "title(\"Standard Deviation\")\n",
    ";"
   ]
  },
  {
   "cell_type": "code",
   "execution_count": null,
   "metadata": {},
   "outputs": [],
   "source": [
    "#Save proximity conditional simulation\n",
    "collectSimulation(\n",
    "    prox_cond,\n",
    "    TI_prox,\n",
    "    sTI=TI_aux,\n",
    "    truth=R_prox,\n",
    "    soft=R_aux,\n",
    "    saveSim=true,\n",
    "    savename=\"Simulations/prox_cond_sim\"\n",
    ")"
   ]
  },
  {
   "cell_type": "code",
   "execution_count": null,
   "metadata": {},
   "outputs": [],
   "source": [
    "#Summarize proximity conditional simulation\n",
    "subplot(2,2,1)\n",
    "plotImage(R_prox)\n",
    "axis(\"off\")\n",
    "title(\"Conditional Simulation - Reference\")\n",
    "subplot(2,2,2)\n",
    "plotImage(prox_cond[1][:,:,1])\n",
    "axis(\"off\")\n",
    "title(\"Realization 1\")\n",
    "subplot(2,2,3)\n",
    "plotImage(prox_cond_mean)\n",
    "axis(\"off\")\n",
    "title(\"Mean Realization\")\n",
    "subplot(2,2,4)\n",
    "plotImage(prox_cond_stdev)\n",
    "axis(\"off\")\n",
    "title(\"Standard Deviation\")\n",
    ";"
   ]
  },
  {
   "cell_type": "markdown",
   "metadata": {},
   "source": [
    "We can also compare this to previous MPS simulation results using *wavesim*. These results are from a binary simulation on a resampled version of the binary TI above. The resampling was performed for a few reasons: (a) so the dimensions of the primary and secondary images matched and (2) to reduce computational time. The *wavesim* algorithm, written in Matlab, was very slow compared to this image quilting simulation and therefore reducing the size of the image was the only feasible way of performing a simulation. \n",
    "\n",
    "Below you can see the results of the simulation."
   ]
  },
  {
   "cell_type": "code",
   "execution_count": null,
   "metadata": {
    "collapsed": true
   },
   "outputs": [],
   "source": [
    "#Import wavesim results with custom function\n",
    "cond_wavesim=load_wavesim_results(fracdata);"
   ]
  },
  {
   "cell_type": "code",
   "execution_count": null,
   "metadata": {
    "collapsed": true
   },
   "outputs": [],
   "source": [
    "#Plot Wavesim realizations\n",
    "subplot(2,2,1)\n",
    "plotImage(R_prim)\n",
    "axis(\"off\")\n",
    "title(\"Conditional Simulation - Reference\")\n",
    "for i=1:3\n",
    "    subplot(2,2,i+1)\n",
    "    plotImage(cond_wavesim[i][:,:,1])\n",
    "    axis(\"off\")\n",
    "    title(\"Realization $(i)\")\n",
    "end\n",
    ";"
   ]
  },
  {
   "cell_type": "markdown",
   "metadata": {},
   "source": [
    "**Brief Discussion**\n",
    "\n",
    "..."
   ]
  },
  {
   "cell_type": "markdown",
   "metadata": {},
   "source": [
    "# 4. Assess Spatial Uncertainty"
   ]
  },
  {
   "cell_type": "markdown",
   "metadata": {},
   "source": [
    "Now we introduce a methodology for quantifying the simulation results. The method is based on a Principal Coordinate Analysis, also known as MultiDimensional Scaling. \n",
    "\n",
    "First we compute a distance matrix for all the simulations using the custom function *distMat*. This function takes realizations, the training image, and the reference image and computes the Euclidean distance between all of them. We can use this distance matrix to perform MDS. For the binary images we apply a proximity transform before computing the distances. \n",
    "\n",
    "After this we compute the percent variance for the MDS coordinates and display the MDS results for the binary and proximity-transformed data."
   ]
  },
  {
   "cell_type": "code",
   "execution_count": null,
   "metadata": {
    "collapsed": true
   },
   "outputs": [],
   "source": [
    "#Same for binary simulations, but we apply prox transform to realizations first\n",
    "input=vcat(realProxTrans(binary_uncond),realProxTrans(binary_cond),realProxTrans(cond_wavesim))\n",
    "D_binary=distMat(input,TI_prox,R_prox)\n",
    "mds_binary=classical_mds(D_binary,2);\n",
    "\n",
    "#Compute distance matrix for proximity-transformed simulations and perform MDS\n",
    "D_prox=distMat(vcat(prox_uncond,prox_cond),TI_prox,R_prox)\n",
    "mds_prox=classical_mds(D_prox,2);"
   ]
  },
  {
   "cell_type": "code",
   "execution_count": null,
   "metadata": {
    "collapsed": true
   },
   "outputs": [],
   "source": [
    "#This function computes the percent variance array\n",
    "#Not sure why the built-in function doesn't do it\n",
    "#but it's not too hard to do myself. \n",
    "function computePercentVariance(Dist)\n",
    "    G=dmat2gram(Dist)\n",
    "    va,ve=eig(G)\n",
    "    pv=va./sum(va)\n",
    "    return  pv[end:-1:1]\n",
    "end\n",
    ";"
   ]
  },
  {
   "cell_type": "code",
   "execution_count": null,
   "metadata": {
    "collapsed": true
   },
   "outputs": [],
   "source": [
    "#Percent Variance\n",
    "pv_binary=computePercentVariance(D_binary)\n",
    "pv_prox=computePercentVariance(D_prox);"
   ]
  },
  {
   "cell_type": "code",
   "execution_count": null,
   "metadata": {
    "collapsed": true
   },
   "outputs": [],
   "source": [
    "#Plot the results of the MDS for binary simulations\n",
    "s1=scatter(mds_binary[1,1:n],mds_binary[2,1:n],marker=\"o\",c=\"b\")\n",
    "s2=scatter(mds_binary[1,n+1:n*2],mds_binary[2,n+1:n*2],marker=\"^\",c=\"r\")\n",
    "s3=scatter(mds_binary[1,end-1],mds_binary[2,end-1],marker=\"*\",s=200,c=\"b\")\n",
    "s4=scatter(mds_binary[1,end],mds_binary[2,end],marker=\"*\",s=200,c=\"r\")\n",
    "s5=scatter(mds_binary[1,n*2+1:n*2+3],mds_binary[2,n*2+1:n*2+3],marker=\"x\",c=\"k\")\n",
    "\n",
    "legend((s1,s3,s2,s4,s5),(\"Unconditional\",\"Training Image\",\"With Auxiliary\",\"Reference Image\",\"Wavesim w/ Aux.\"))\n",
    "xlabel(\"Coordinate 1 ($(round(pv_binary[1]*100)) %)\")\n",
    "ylabel(\"Coordinate 2 ($(round(pv_binary[2]*100)) %)\")\n",
    "title(\"MDS Plot of Binary Simulations\")\n",
    ";"
   ]
  },
  {
   "cell_type": "code",
   "execution_count": null,
   "metadata": {
    "collapsed": true,
    "scrolled": false
   },
   "outputs": [],
   "source": [
    "#Plot the results of the MDS for proximity-transformed simulations\n",
    "s1=scatter(mds_prox[1,1:n],mds_prox[2,1:n],marker=\"o\",c=\"b\")\n",
    "s2=scatter(mds_prox[1,n+1:n*2],mds_prox[2,n+1:n*2],marker=\"^\",c=\"r\")\n",
    "s3=scatter(mds_prox[1,end-1],mds_prox[2,end-1],marker=\"*\",s=200,c=\"b\")\n",
    "s4=scatter(mds_prox[1,end],mds_prox[2,end],marker=\"*\",s=200,c=\"r\")\n",
    "\n",
    "legend((s1,s3,s2,s4),(\"Unconditional\",\"Training Image\",\"With Auxiliary\",\"Reference Image\"))\n",
    "xlabel(\"Coordinate 1 ($(round(pv_prox[1]*100)) %)\")\n",
    "ylabel(\"Coordinate 2 ($(round(pv_prox[2]*100)) %)\")\n",
    "title(\"MDS Plot of Proximity-Transformed Simulations\")\n",
    ";"
   ]
  },
  {
   "cell_type": "markdown",
   "metadata": {},
   "source": [
    "**Brief Discussion**\n",
    "\n",
    "These results do not seem to promising. The while we do observe some level of clustering of the conditional and unconditional realizations they do not cluster around their corresponding training images. They are, at least, better than the *wavesim* results. \n",
    "\n",
    "One problem is clearly the nonstationarity in the auxiliary data. The top of the auxiliary image has much larger values than the bottom due to scattering and attenuation of our GPR signal. Traditional processing techniques like gaining cannot amplify these lower reflectors without also amplifying the surrounding noise. Next, we will apply a different processing technique to try and amplify these reflectors while minimizing the noise amplification."
   ]
  },
  {
   "cell_type": "markdown",
   "metadata": {},
   "source": [
    "# 5. Using Uniform Score Transform"
   ]
  },
  {
   "cell_type": "markdown",
   "metadata": {},
   "source": [
    "Now we will explore the effects of some additional post-processing of our geophysical data. Particularly, we will be using a procedure referred to as the Uniform Score Transform (UST). The uniform score transform takes the data of any distribution and converts it to a normal distribution while preserving the order of the data. In simpler terms, we sort the data then replace each sample with its rank in the sorting. We can normalize by dividing by the number of samples in our data. This allows us to preserve the amplitude relationships such that the weak reflectors at the bottom of the auxiliary images are amplified. \n",
    "\n",
    "Below are plots of the data that will be used for the next round of conditional simulations. The auxiliary images used as conditioning data are now uniform-score transformed."
   ]
  },
  {
   "cell_type": "code",
   "execution_count": null,
   "metadata": {
    "collapsed": true
   },
   "outputs": [],
   "source": [
    "subplot(2,2,1)\n",
    "plotImage(TI_prox[:,:,1])\n",
    "axis(\"off\")\n",
    "title(\"Training Image\")\n",
    "subplot(2,2,2)\n",
    "plotImage(ust(TI_aux))\n",
    "axis(\"off\")\n",
    "title(\"Auxiliary Data\")\n",
    "colorbar()\n",
    "subplot(2,2,3)\n",
    "plotImage(R_prox[:,:,1])\n",
    "axis(\"off\")\n",
    "title(\"Reference Image\")\n",
    "subplot(2,2,4)\n",
    "plotImage(ust(R_aux))\n",
    "axis(\"off\")\n",
    "title(\"Conditioning Data\")\n",
    "colorbar()\n",
    ";"
   ]
  },
  {
   "cell_type": "markdown",
   "metadata": {},
   "source": [
    "Now we can run our simulations and examine the results."
   ]
  },
  {
   "cell_type": "code",
   "execution_count": null,
   "metadata": {},
   "outputs": [],
   "source": [
    "#Conditional image quilting simulation - no proximity transform\n",
    "binary_cond_ust=iqsim(\n",
    "    TI_prim,\n",
    "    151,151,1,\n",
    "    size(TI_prim)..., \n",
    "    soft=[(ust(R_aux),ust(TI_aux))],\n",
    "    nreal=n,\n",
    "    overlapx=1/10,overlapy=1/10,\n",
    "    gpu=true)\n",
    "\n",
    "#Conditional image quilting simulation with proximity transform\n",
    "prox_cond_ust=iqsim(\n",
    "    TI_prox,\n",
    "    151,151,1,\n",
    "    size(TI_prox)..., \n",
    "    soft=[(ust(R_aux),ust(TI_aux))],\n",
    "    nreal=n,\n",
    "    overlapx=1/10,overlapy=1/10,\n",
    "    gpu=true)\n",
    "\n",
    "\n",
    "#Compute mean & stdev of realizations\n",
    "binary_cond_ust_mean, binary_cond_ust_stdev=realizationStats(binary_cond_ust)\n",
    "prox_cond_ust_mean, prox_cond_ust_stdev=realizationStats(prox_cond_ust);"
   ]
  },
  {
   "cell_type": "code",
   "execution_count": null,
   "metadata": {},
   "outputs": [],
   "source": [
    "#Save UST conditional sims for binary\n",
    "collectSimulation(\n",
    "    binary_cond_ust,\n",
    "    TI_prim,\n",
    "    sTI=ust(TI_aux),\n",
    "    truth=R_prim,\n",
    "    soft=ust(R_aux),\n",
    "    saveSim=true,\n",
    "    savename=\"Simulations/binary_cond_ust_sim\"\n",
    ")"
   ]
  },
  {
   "cell_type": "code",
   "execution_count": null,
   "metadata": {},
   "outputs": [],
   "source": [
    "#Plot binary UST conditional sims\n",
    "subplot(2,2,1)\n",
    "plotImage(R_prim)\n",
    "axis(\"off\")\n",
    "title(\"Conditional Simulation - Reference\")\n",
    "subplot(2,2,2)\n",
    "plotImage(binary_cond_ust[1][:,:,1])\n",
    "axis(\"off\")\n",
    "title(\"Realization 1\")\n",
    "subplot(2,2,3)\n",
    "plotImage(binary_cond_ust_mean)\n",
    "axis(\"off\")\n",
    "title(\"Mean Realization\")\n",
    "subplot(2,2,4)\n",
    "plotImage(binary_cond_ust_stdev)\n",
    "axis(\"off\")\n",
    "title(\"Standard Deviation\")\n",
    ";"
   ]
  },
  {
   "cell_type": "code",
   "execution_count": null,
   "metadata": {},
   "outputs": [],
   "source": [
    "#Save prox UST conditional sims\n",
    "collectSimulation(\n",
    "    prox_cond,\n",
    "    TI_prox,\n",
    "    sTI=ust(TI_aux),\n",
    "    truth=R_prox,\n",
    "    soft=ust(R_aux),\n",
    "    saveSim=true,\n",
    "    savename=\"Simulations/prox_cond_ust_sim\"\n",
    ")"
   ]
  },
  {
   "cell_type": "code",
   "execution_count": null,
   "metadata": {},
   "outputs": [],
   "source": [
    "#Plot prox UST conditional sims\n",
    "subplot(2,2,1)\n",
    "plotImage(R_prox)\n",
    "axis(\"off\")\n",
    "title(\"Conditional Simulation - Reference\")\n",
    "subplot(2,2,2)\n",
    "plotImage(prox_cond_ust[1][:,:,1])\n",
    "axis(\"off\")\n",
    "title(\"Realization 1\")\n",
    "subplot(2,2,3)\n",
    "plotImage(prox_cond_ust_mean)\n",
    "axis(\"off\")\n",
    "title(\"Mean Realization\")\n",
    "subplot(2,2,4)\n",
    "plotImage(prox_cond_ust_stdev)\n",
    "axis(\"off\")\n",
    "title(\"Standard Deviation\")\n",
    ";"
   ]
  },
  {
   "cell_type": "code",
   "execution_count": null,
   "metadata": {
    "collapsed": true
   },
   "outputs": [],
   "source": [
    "#Compute distance matrix for proximity-transformed simulations and perform MDS\n",
    "D_prox_ust=distMat(vcat(prox_uncond,prox_cond_ust),TI_prox,R_prox)\n",
    "mds_prox_ust=classical_mds(D_prox_ust,2);\n",
    "\n",
    "#Same for binary simulations, but we apply prox transform to realizations first\n",
    "input=vcat(realProxTrans(binary_uncond),realProxTrans(binary_cond_ust),realProxTrans(cond_wavesim))\n",
    "D_binary_ust=distMat(input,TI_prox,R_prox)\n",
    "mds_binary_ust=classical_mds(D_binary_ust,2);\n"
   ]
  },
  {
   "cell_type": "code",
   "execution_count": null,
   "metadata": {
    "collapsed": true
   },
   "outputs": [],
   "source": [
    "pv_prox_ust=computePercentVariance(D_prox_ust)\n",
    "pv_binary_ust=computePercentVariance(D_binary_ust);"
   ]
  },
  {
   "cell_type": "code",
   "execution_count": null,
   "metadata": {
    "collapsed": true
   },
   "outputs": [],
   "source": [
    "#Plot the results of the MDS for proximity-transformed simulations\n",
    "s1=scatter(mds_prox_ust[1,1:n],mds_prox_ust[2,1:n],marker=\"o\",c=\"b\")\n",
    "s2=scatter(mds_prox_ust[1,n+1:n*2],mds_prox_ust[2,n+1:n*2],marker=\"^\",c=\"r\")\n",
    "s3=scatter(mds_prox_ust[1,end-1],mds_prox_ust[2,end-1],marker=\"*\",s=200,c=\"b\")\n",
    "s4=scatter(mds_prox_ust[1,end],mds_prox_ust[2,end],marker=\"*\",s=200,c=\"r\")\n",
    "\n",
    "legend((s1,s3,s2,s4),(\"Unconditional\",\"Training Image\",\"With Auxiliary\",\"Reference Image\"))\n",
    "xlabel(\"Coordinate 1 ($(round(pv_prox_ust[1]*100)) %)\")\n",
    "ylabel(\"Coordinate 2 ($(round(pv_prox_ust[2]*100)) %)\")\n",
    "title(\"MDS Plot of Proximity-Transformed Simulations\")\n",
    ";\n"
   ]
  },
  {
   "cell_type": "code",
   "execution_count": null,
   "metadata": {
    "collapsed": true
   },
   "outputs": [],
   "source": [
    "#Plot the results of the MDS for binary simulations\n",
    "s1=scatter(mds_binary_ust[1,1:n],mds_binary_ust[2,1:n],marker=\"o\",c=\"b\")\n",
    "s2=scatter(mds_binary_ust[1,n+1:n*2],mds_binary_ust[2,n+1:n*2],marker=\"^\",c=\"r\")\n",
    "s3=scatter(mds_binary_ust[1,end-1],mds_binary_ust[2,end-1],marker=\"*\",s=200,c=\"b\")\n",
    "s4=scatter(mds_binary_ust[1,end],mds_binary_ust[2,end],marker=\"*\",s=200,c=\"r\")\n",
    "s5=scatter(mds_binary_ust[1,n*2+1:n*2+3],mds_binary_ust[2,n*2+1:n*2+3],marker=\"x\",c=\"k\")\n",
    "\n",
    "legend((s1,s3,s2,s4,s5),(\"Unconditional\",\"Training Image\",\"With Auxiliary\",\"Reference Image\",\"Wavesim w/ Aux.\"))\n",
    "xlabel(\"Coordinate 1 ($(round(pv_binary_ust[1]*100)) %)\")\n",
    "ylabel(\"Coordinate 2 ($(round(pv_binary_ust[2]*100)) %)\")\n",
    "title(\"MDS Plot of Binary Simulations\")\n",
    ";"
   ]
  },
  {
   "cell_type": "markdown",
   "metadata": {},
   "source": [
    "**Brief Discussion**\n",
    "\n",
    "..."
   ]
  },
  {
   "cell_type": "code",
   "execution_count": null,
   "metadata": {},
   "outputs": [
    {
     "name": "stderr",
     "output_type": "stream",
     "text": [
      "\u001b[30mProgress:  18%|███████                                  |  ETA: 1:01:09\u001b[39m"
     ]
    }
   ],
   "source": [
    "voxelreuseplot(TI_prox,label=\"prox\",gpu=true)"
   ]
  },
  {
   "cell_type": "code",
   "execution_count": null,
   "metadata": {
    "collapsed": true
   },
   "outputs": [],
   "source": []
  }
 ],
 "metadata": {
  "kernelspec": {
   "display_name": "Julia 0.5 0.6.1",
   "language": "julia",
   "name": "julia-0.5-0.6"
  },
  "language_info": {
   "file_extension": ".jl",
   "mimetype": "application/julia",
   "name": "julia",
   "version": "0.6.1"
  }
 },
 "nbformat": 4,
 "nbformat_minor": 2
}
